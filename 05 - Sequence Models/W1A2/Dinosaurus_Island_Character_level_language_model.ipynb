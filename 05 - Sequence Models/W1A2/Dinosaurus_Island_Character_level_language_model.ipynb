{
 "cells": [
  {
   "cell_type": "markdown",
   "metadata": {
    "colab_type": "text",
    "id": "qo4gVJ_D01SH"
   },
   "source": [
    "# Character level language model - Dinosaurus Island\n",
    "\n",
    "Welcome to Dinosaurus Island! 65 million years ago, dinosaurs existed, and in this assignment, they have returned. \n",
    "\n",
    "You are in charge of a special task: Leading biology researchers are creating new breeds of dinosaurs and bringing them to life on earth, and your job is to give names to these dinosaurs. If a dinosaur does not like its name, it might go berserk, so choose wisely! \n",
    "\n",
    "<table>\n",
    "<td>\n",
    "<img src=\"images/dino.jpg\" style=\"width:250;height:300px;\">\n",
    "\n",
    "</td>\n",
    "\n",
    "</table>\n",
    "\n",
    "Luckily you're equipped with some deep learning now, and you will use it to save the day! Your assistant has collected a list of all the dinosaur names they could find, and compiled them into this [dataset](dinos.txt). (Feel free to take a look by clicking the previous link.) To create new dinosaur names, you will build a character-level language model to generate new names. Your algorithm will learn the different name patterns, and randomly generate new names. Hopefully this algorithm will keep you and your team safe from the dinosaurs' wrath! \n",
    "\n",
    "By the time you complete this assignment, you'll be able to:\n",
    "\n",
    "* Store text data for processing using an RNN \n",
    "* Build a character-level text generation model using an RNN\n",
    "* Sample novel sequences in an RNN\n",
    "* Explain the vanishing/exploding gradient problem in RNNs\n",
    "* Apply gradient clipping as a solution for exploding gradients\n",
    "\n",
    "Begin by loading in some functions that are provided for you in `rnn_utils`. Specifically, you have access to functions such as `rnn_forward` and `rnn_backward` which are equivalent to those you've implemented in the previous assignment. \n",
    "\n",
    "## Important Note on Submission to the AutoGrader\n",
    "\n",
    "Before submitting your assignment to the AutoGrader, please make sure you are not doing the following:\n",
    "\n",
    "1. You have not added any _extra_ `print` statement(s) in the assignment.\n",
    "2. You have not added any _extra_ code cell(s) in the assignment.\n",
    "3. You have not changed any of the function parameters.\n",
    "4. You are not using any global variables inside your graded exercises. Unless specifically instructed to do so, please refrain from it and use the local variables instead.\n",
    "5. You are not changing the assignment code where it is not required, like creating _extra_ variables.\n",
    "\n",
    "If you do any of the following, you will get something like, `Grader Error: Grader feedback not found` (or similarly unexpected) error upon submitting your assignment. Before asking for help/debugging the errors in your assignment, check for these first. If this is the case, and you don't remember the changes you have made, you can get a fresh copy of the assignment by following these [instructions](https://www.coursera.org/learn/nlp-sequence-models/supplement/qHIve/h-ow-to-refresh-your-workspace)."
   ]
  },
  {
   "cell_type": "markdown",
   "metadata": {},
   "source": [
    "## Table of Contents\n",
    "\n",
    "- [Packages](#0)\n",
    "- [1 - Problem Statement](#1)\n",
    "    - [1.1 - Dataset and Preprocessing](#1-1)\n",
    "    - [1.2 - Overview of the Model](#1-2)\n",
    "- [2 - Building Blocks of the Model](#2)\n",
    "    - [2.1 - Clipping the Gradients in the Optimization Loop](#2-1)\n",
    "        - [Exercise 1 - clip](#ex-1)\n",
    "    - [2.2 - Sampling](#2-2)\n",
    "        - [Exercise 2 - sample](#ex-2)\n",
    "- [3 - Building the Language Model](#3)\n",
    "    - [3.1 - Gradient Descent](#3-1)\n",
    "        - [Exercise 3 - optimize](#ex-3)\n",
    "    - [3.2 - Training the Model](#3-2)\n",
    "        - [Exercise 4 - model](#ex-4)\n",
    "- [4 - Writing like Shakespeare (OPTIONAL/UNGRADED)](#4)\n",
    "- [5 - References](#5)"
   ]
  },
  {
   "cell_type": "markdown",
   "metadata": {},
   "source": [
    "<a name='0'></a>\n",
    "## Packages"
   ]
  },
  {
   "cell_type": "code",
   "execution_count": 1,
   "metadata": {
    "colab": {},
    "colab_type": "code",
    "id": "r0Nj4psY01SJ"
   },
   "outputs": [],
   "source": [
    "import numpy as np\n",
    "from utils import *\n",
    "import random\n",
    "import pprint\n",
    "import copy"
   ]
  },
  {
   "cell_type": "markdown",
   "metadata": {
    "colab_type": "text",
    "id": "h_elAxqq01SN"
   },
   "source": [
    "<a name='1'></a>\n",
    "## 1 - Problem Statement\n",
    "\n",
    "<a name='1-1'></a>\n",
    "### 1.1 - Dataset and Preprocessing\n",
    "\n",
    "Run the following cell to read the dataset of dinosaur names, create a list of unique characters (such as a-z), and compute the dataset and vocabulary size. "
   ]
  },
  {
   "cell_type": "code",
   "execution_count": 2,
   "metadata": {
    "colab": {},
    "colab_type": "code",
    "id": "qB2XWVg_01SO"
   },
   "outputs": [
    {
     "name": "stdout",
     "output_type": "stream",
     "text": [
      "There are 19909 total characters and 27 unique characters in your data.\n"
     ]
    }
   ],
   "source": [
    "data = open('dinos.txt', 'r').read()\n",
    "data= data.lower()\n",
    "chars = list(set(data))\n",
    "data_size, vocab_size = len(data), len(chars)\n",
    "print('There are %d total characters and %d unique characters in your data.' % (data_size, vocab_size))"
   ]
  },
  {
   "cell_type": "code",
   "execution_count": 2,
   "metadata": {},
   "outputs": [
    {
     "name": "stdout",
     "output_type": "stream",
     "text": [
      "There are 8674 total characters and 27 unique characters in your data.\n"
     ]
    }
   ],
   "source": [
    "data = open('lotr_names.txt', 'r').read()\n",
    "data= data.lower()\n",
    "chars = list(set(data))\n",
    "data_size, vocab_size = len(data), len(chars)\n",
    "print('There are %d total characters and %d unique characters in your data.' % (data_size, vocab_size))"
   ]
  },
  {
   "cell_type": "markdown",
   "metadata": {
    "colab_type": "text",
    "id": "CfmL668r01SQ"
   },
   "source": [
    "\n",
    "* The characters are a-z (26 characters) plus the \"\\n\" (or newline character).\n",
    "* In this assignment, the newline character \"\\n\" plays a role similar to the `<EOS>` (or \"End of sentence\") token discussed in lecture.  \n",
    "    - Here, \"\\n\" indicates the end of the dinosaur name rather than the end of a sentence. \n",
    "* `char_to_ix`: In the cell below, you'll create a Python dictionary (i.e., a hash table) to map each character to an index from 0-26.\n",
    "* `ix_to_char`: Then, you'll create a second Python dictionary that maps each index back to the corresponding character. \n",
    "    -  This will help you figure out which index corresponds to which character in the probability distribution output of the softmax layer. "
   ]
  },
  {
   "cell_type": "code",
   "execution_count": 3,
   "metadata": {
    "colab": {},
    "colab_type": "code",
    "id": "bh3QcYpr01SQ"
   },
   "outputs": [
    {
     "name": "stdout",
     "output_type": "stream",
     "text": [
      "['\\n', ' ', 'a', 'b', 'c', 'd', 'e', 'f', 'g', 'h', 'i', 'j', 'k', 'l', 'm', 'n', 'o', 'p', 'r', 's', 't', 'u', 'v', 'w', 'x', 'y', 'z']\n"
     ]
    }
   ],
   "source": [
    "chars = sorted(chars)\n",
    "print(chars)"
   ]
  },
  {
   "cell_type": "code",
   "execution_count": 4,
   "metadata": {
    "colab": {},
    "colab_type": "code",
    "id": "2YltsxeZ01SU"
   },
   "outputs": [
    {
     "name": "stdout",
     "output_type": "stream",
     "text": [
      "{   0: '\\n',\n",
      "    1: ' ',\n",
      "    2: 'a',\n",
      "    3: 'b',\n",
      "    4: 'c',\n",
      "    5: 'd',\n",
      "    6: 'e',\n",
      "    7: 'f',\n",
      "    8: 'g',\n",
      "    9: 'h',\n",
      "    10: 'i',\n",
      "    11: 'j',\n",
      "    12: 'k',\n",
      "    13: 'l',\n",
      "    14: 'm',\n",
      "    15: 'n',\n",
      "    16: 'o',\n",
      "    17: 'p',\n",
      "    18: 'r',\n",
      "    19: 's',\n",
      "    20: 't',\n",
      "    21: 'u',\n",
      "    22: 'v',\n",
      "    23: 'w',\n",
      "    24: 'x',\n",
      "    25: 'y',\n",
      "    26: 'z'}\n"
     ]
    }
   ],
   "source": [
    "char_to_ix = { ch:i for i,ch in enumerate(chars) }\n",
    "ix_to_char = { i:ch for i,ch in enumerate(chars) }\n",
    "pp = pprint.PrettyPrinter(indent=4)\n",
    "pp.pprint(ix_to_char)"
   ]
  },
  {
   "cell_type": "markdown",
   "metadata": {
    "colab_type": "text",
    "id": "OuDQfApB01SW"
   },
   "source": [
    "<a name='1-2'></a>\n",
    "### 1.2 - Overview of the Model\n",
    "\n",
    "Your model will have the following structure: \n",
    "\n",
    "- Initialize parameters \n",
    "- Run the optimization loop\n",
    "    - Forward propagation to compute the loss function\n",
    "    - Backward propagation to compute the gradients with respect to the loss function\n",
    "    - Clip the gradients to avoid exploding gradients\n",
    "    - Using the gradients, update your parameters with the gradient descent update rule.\n",
    "- Return the learned parameters \n",
    "    \n",
    "<img src=\"images/rnn.png\" style=\"width:450;height:300px;\">\n",
    "<caption><center><font color='purple'><b>Figure 1</b>: Recurrent Neural Network, similar to what you built in the previous notebook \"Building a Recurrent Neural Network - Step by Step.\"  </center></caption>\n",
    "\n",
    "* At each time-step, the RNN tries to predict what the next character is, given the previous characters. \n",
    "* $\\mathbf{X} = (x^{\\langle 1 \\rangle}, x^{\\langle 2 \\rangle}, ..., x^{\\langle T_x \\rangle})$ is a list of characters from the training set.\n",
    "* $\\mathbf{Y} = (y^{\\langle 1 \\rangle}, y^{\\langle 2 \\rangle}, ..., y^{\\langle T_x \\rangle})$ is the same list of characters but shifted one character forward. \n",
    "* At every time-step $t$, $y^{\\langle t \\rangle} = x^{\\langle t+1 \\rangle}$.  The prediction at time $t$ is the same as the input at time $t + 1$."
   ]
  },
  {
   "cell_type": "markdown",
   "metadata": {
    "colab_type": "text",
    "id": "bNFjtuyq01SW"
   },
   "source": [
    "<a name='2'></a>\n",
    "## 2 - Building Blocks of the Model\n",
    "\n",
    "In this part, you will build two important blocks of the overall model:\n",
    "\n",
    "1. Gradient clipping: to avoid exploding gradients\n",
    "2. Sampling: a technique used to generate characters\n",
    "\n",
    "You will then apply these two functions to build the model."
   ]
  },
  {
   "cell_type": "markdown",
   "metadata": {
    "colab_type": "text",
    "id": "tuVLtQaM01SX"
   },
   "source": [
    "<a name='2-1'></a>\n",
    "### 2.1 - Clipping the Gradients in the Optimization Loop\n",
    "\n",
    "In this section you will implement the `clip` function that you will call inside of your optimization loop. \n",
    "\n",
    "#### Exploding gradients\n",
    "* When gradients are very large, they're called \"exploding gradients.\"  \n",
    "* Exploding gradients make the training process more difficult, because the updates may be so large that they \"overshoot\" the optimal values during back propagation.\n",
    "\n",
    "Recall that your overall loop structure usually consists of:\n",
    "* forward pass, \n",
    "* cost computation, \n",
    "* backward pass, \n",
    "* parameter update. \n",
    "\n",
    "Before updating the parameters, you will perform gradient clipping to make sure that your gradients are not \"exploding.\"\n",
    "\n",
    "#### Gradient clipping\n",
    "In the exercise below, you will implement a function `clip` that takes in a dictionary of gradients and returns a clipped version of gradients, if needed. \n",
    "\n",
    "* There are different ways to clip gradients.\n",
    "* You will use a simple element-wise clipping procedure, in which every element of the gradient vector is clipped to fall between some range [-N, N]. \n",
    "* For example, if the N=10\n",
    "    - The range is [-10, 10]\n",
    "    - If any component of the gradient vector is greater than 10, it is set to 10.\n",
    "    - If any component of the gradient vector is less than -10, it is set to -10. \n",
    "    - If any components are between -10 and 10, they keep their original values.\n",
    "\n",
    "<img src=\"images/clip.png\" style=\"width:400;height:150px;\">\n",
    "<caption><center><font color='purple'><b>Figure 2</b>: Visualization of gradient descent with and without gradient clipping, in a case where the network is running into \"exploding gradient\" problems. </center></caption>\n",
    "\n",
    "<a name='ex-1'></a>\n",
    "### Exercise 1 - clip\n",
    "    \n",
    "Return the clipped gradients of your dictionary `gradients`. \n",
    "    \n",
    "* Your function takes in a maximum threshold and returns the clipped versions of the gradients. \n",
    "* You can check out [numpy.clip](https://docs.scipy.org/doc/numpy-1.13.0/reference/generated/numpy.clip.html) for more info. \n",
    "    - You will need to use the argument \"`out = ...`\".\n",
    "    - Using the \"`out`\" parameter allows you to update a variable \"in-place\".\n",
    "    - If you don't use \"`out`\" argument, the clipped variable is stored in the variable \"gradient\" but does not update the gradient variables `dWax`, `dWaa`, `dWya`, `db`, `dby`."
   ]
  },
  {
   "cell_type": "code",
   "execution_count": 5,
   "metadata": {
    "colab": {},
    "colab_type": "code",
    "id": "2yYvYeI501SX"
   },
   "outputs": [],
   "source": [
    "# UNQ_C1 (UNIQUE CELL IDENTIFIER, DO NOT EDIT)\n",
    "### GRADED FUNCTION: clip\n",
    "\n",
    "def clip(gradients, maxValue):\n",
    "    '''\n",
    "    Clips the gradients' values between minimum and maximum.\n",
    "    \n",
    "    Arguments:\n",
    "    gradients -- a dictionary containing the gradients \"dWaa\", \"dWax\", \"dWya\", \"db\", \"dby\"\n",
    "    maxValue -- everything above this number is set to this number, and everything less than -maxValue is set to -maxValue\n",
    "    \n",
    "    Returns: \n",
    "    gradients -- a dictionary with the clipped gradients.\n",
    "    '''\n",
    "    gradients = copy.deepcopy(gradients)\n",
    "    \n",
    "    dWaa, dWax, dWya, db, dby = gradients['dWaa'], gradients['dWax'], gradients['dWya'], gradients['db'], gradients['dby']\n",
    "   \n",
    "    ### START CODE HERE ###\n",
    "    # Clip to mitigate exploding gradients, loop over [dWax, dWaa, dWya, db, dby]. (≈2 lines)\n",
    "    for gradient in [dWax, dWaa, dWya, db, dby]:\n",
    "        np.clip(gradient, -maxValue, maxValue, out = gradient)\n",
    "    ### END CODE HERE ###\n",
    "    \n",
    "    gradients = {\"dWaa\": dWaa, \"dWax\": dWax, \"dWya\": dWya, \"db\": db, \"dby\": dby}\n",
    "    \n",
    "    return gradients"
   ]
  },
  {
   "cell_type": "code",
   "execution_count": 6,
   "metadata": {
    "colab": {},
    "colab_type": "code",
    "id": "NAdY1Eon01Sa"
   },
   "outputs": [
    {
     "name": "stdout",
     "output_type": "stream",
     "text": [
      "\n",
      "Gradients for mValue=10\n",
      "gradients[\"dWaa\"][1][2] = 10.0\n",
      "gradients[\"dWax\"][3][1] = -10.0\n",
      "gradients[\"dWya\"][1][2] = 0.2971381536101662\n",
      "gradients[\"db\"][4] = [10.]\n",
      "gradients[\"dby\"][1] = [8.45833407]\n",
      "\u001b[92mAll tests passed!\u001b[0m\n",
      "\n",
      "Gradients for mValue=5\n",
      "gradients[\"dWaa\"][1][2] = 5.0\n",
      "gradients[\"dWax\"][3][1] = -5.0\n",
      "gradients[\"dWya\"][1][2] = 0.2971381536101662\n",
      "gradients[\"db\"][4] = [5.]\n",
      "gradients[\"dby\"][1] = [5.]\n",
      "\u001b[92mAll tests passed!\u001b[0m\n"
     ]
    }
   ],
   "source": [
    "# Test with a max value of 10\n",
    "def clip_test(target, mValue):\n",
    "    print(f\"\\nGradients for mValue={mValue}\")\n",
    "    np.random.seed(3)\n",
    "    dWax = np.random.randn(5, 3) * 10\n",
    "    dWaa = np.random.randn(5, 5) * 10\n",
    "    dWya = np.random.randn(2, 5) * 10\n",
    "    db = np.random.randn(5, 1) * 10\n",
    "    dby = np.random.randn(2, 1) * 10\n",
    "    gradients = {\"dWax\": dWax, \"dWaa\": dWaa, \"dWya\": dWya, \"db\": db, \"dby\": dby}\n",
    "\n",
    "    gradients2 = target(gradients, mValue)\n",
    "    print(\"gradients[\\\"dWaa\\\"][1][2] =\", gradients2[\"dWaa\"][1][2])\n",
    "    print(\"gradients[\\\"dWax\\\"][3][1] =\", gradients2[\"dWax\"][3][1])\n",
    "    print(\"gradients[\\\"dWya\\\"][1][2] =\", gradients2[\"dWya\"][1][2])\n",
    "    print(\"gradients[\\\"db\\\"][4] =\", gradients2[\"db\"][4])\n",
    "    print(\"gradients[\\\"dby\\\"][1] =\", gradients2[\"dby\"][1])\n",
    "    \n",
    "    for grad in gradients2.keys():\n",
    "        valuei = gradients[grad]\n",
    "        valuef = gradients2[grad]\n",
    "        mink = np.min(valuef)\n",
    "        maxk = np.max(valuef)\n",
    "        assert mink >= -abs(mValue), f\"Problem with {grad}. Set a_min to -mValue in the np.clip call\"\n",
    "        assert maxk <= abs(mValue), f\"Problem with {grad}.Set a_max to mValue in the np.clip call\"\n",
    "        index_not_clipped = np.logical_and(valuei <= mValue, valuei >= -mValue)\n",
    "        assert np.all(valuei[index_not_clipped] == valuef[index_not_clipped]), f\" Problem with {grad}. Some values that should not have changed, changed during the clipping process.\"\n",
    "    \n",
    "    print(\"\\033[92mAll tests passed!\\x1b[0m\")\n",
    "    \n",
    "clip_test(clip, 10)\n",
    "clip_test(clip, 5)\n",
    "    "
   ]
  },
  {
   "cell_type": "markdown",
   "metadata": {
    "colab": {},
    "colab_type": "code",
    "id": "6O4BLjJf01Sd"
   },
   "source": [
    "**Expected values**\n",
    "```\n",
    "Gradients for mValue=10\n",
    "gradients[\"dWaa\"][1][2] = 10.0\n",
    "gradients[\"dWax\"][3][1] = -10.0\n",
    "gradients[\"dWya\"][1][2] = 0.2971381536101662\n",
    "gradients[\"db\"][4] = [10.]\n",
    "gradients[\"dby\"][1] = [8.45833407]\n",
    "\n",
    "Gradients for mValue=5\n",
    "gradients[\"dWaa\"][1][2] = 5.0\n",
    "gradients[\"dWax\"][3][1] = -5.0\n",
    "gradients[\"dWya\"][1][2] = 0.2971381536101662\n",
    "gradients[\"db\"][4] = [5.]\n",
    "gradients[\"dby\"][1] = [5.]\n",
    "```"
   ]
  },
  {
   "cell_type": "markdown",
   "metadata": {
    "colab_type": "text",
    "id": "cxSUDRYH01Sg"
   },
   "source": [
    "<a name='2-2'></a>\n",
    "### 2.2 - Sampling\n",
    "\n",
    "Now, assume that your model is trained, and you would like to generate new text (characters). The process of generation is explained in the picture below:\n",
    "\n",
    "<img src=\"images/dinos3.png\" style=\"width:500;height:300px;\">\n",
    "<caption><center><font color='purple'><b>Figure 3</b>: In this picture, you can assume the model is already trained. You pass in $x^{\\langle 1\\rangle} = \\vec{0}$ at the first time-step, and have the network sample one character at a time. </center></caption>"
   ]
  },
  {
   "cell_type": "markdown",
   "metadata": {
    "colab_type": "text",
    "id": "2l1SKw3301Sg"
   },
   "source": [
    "<a name='ex-2'></a>\n",
    "### Exercise 2 - sample\n",
    "\n",
    "Implement the `sample` function below to sample characters. \n",
    "\n",
    "You need to carry out 4 steps:\n",
    "\n",
    "- **Step 1**: Input the \"dummy\" vector of zeros $x^{\\langle 1 \\rangle} = \\vec{0}$. \n",
    "    - This is the default input before you've generated any characters. \n",
    "    You also set $a^{\\langle 0 \\rangle} = \\vec{0}$"
   ]
  },
  {
   "cell_type": "markdown",
   "metadata": {},
   "source": [
    "- **Step 2**: Run one step of forward propagation to get $a^{\\langle 1 \\rangle}$ and $\\hat{y}^{\\langle 1 \\rangle}$. Here are the equations:\n",
    "\n",
    "*hidden state:*  \n",
    "$$ a^{\\langle t+1 \\rangle} = \\tanh(W_{ax}  x^{\\langle t+1 \\rangle } + W_{aa} a^{\\langle t \\rangle } + b)\\tag{1}$$\n",
    "\n",
    "*activation:*\n",
    "$$ z^{\\langle t + 1 \\rangle } = W_{ya}  a^{\\langle t + 1 \\rangle } + b_y \\tag{2}$$\n",
    "\n",
    "*prediction:*\n",
    "$$ \\hat{y}^{\\langle t+1 \\rangle } = softmax(z^{\\langle t + 1 \\rangle })\\tag{3}$$\n",
    "\n",
    "- Details about $\\hat{y}^{\\langle t+1 \\rangle }$:\n",
    "   - Note that $\\hat{y}^{\\langle t+1 \\rangle }$ is a (softmax) probability vector (its entries are between 0 and 1 and sum to 1). \n",
    "   - $\\hat{y}^{\\langle t+1 \\rangle}_i$ represents the probability that the character indexed by \"i\" is the next character.  \n",
    "   - A `softmax()` function is provided for you to use."
   ]
  },
  {
   "cell_type": "markdown",
   "metadata": {
    "colab_type": "text",
    "id": "4QkJOHAS01Sh"
   },
   "source": [
    "<details>\n",
    "    <summary><h4 style=\"color: green;\">Additional Hints: Matrix multiplication with numpy<h4></summary>\n",
    "        \n",
    "<body>\n",
    "    <li>$x^{\\langle 1 \\rangle}$ is `x` in the code. When creating the one-hot vector, make a numpy array of zeros, with the number of rows equal to the number of unique characters, and the number of columns equal to one.  It's a 2D and not a 1D array.\n",
    "    </li>\n",
    "    <li>$a^{\\langle 0 \\rangle}$ is `a_prev` in the code.  It is a numpy array of zeros, where the number of rows is $n_{a}$, and number of columns is 1.  It is a 2D array as well.  $n_{a}$ is retrieved by getting the number of columns in $W_{aa}$ (the numbers need to match in order for the matrix multiplication $W_{aa}a^{\\langle t \\rangle}$ to work.\n",
    "    </li>\n",
    "    <li>Official documentation for <a href=\"https://docs.scipy.org/doc/numpy/reference/generated/numpy.dot.html\">numpy.dot</a> and <a href=\"https://docs.scipy.org/doc/numpy/reference/generated/numpy.tanh.html\">numpy.tanh</a>.\n",
    "    </li>\n",
    "    <li>Below is some revision code for matrix multiplication\n",
    "    </li>\n",
    "    \n",
    "</body>    \n",
    "\n",
    "<p>\n",
    "\n",
    "```python\n",
    "matrix1 = np.array([[1,1],[2,2],[3,3]]) # (3,2)\n",
    "matrix2 = np.array([[0],[0],[0]]) # (3,1) \n",
    "vector1D = np.array([1,1]) # (2,) \n",
    "vector2D = np.array([[1],[1]]) # (2,1)\n",
    "print(\"matrix1 \\n\", matrix1,\"\\n\")\n",
    "print(\"matrix2 \\n\", matrix2,\"\\n\")\n",
    "print(\"vector1D \\n\", vector1D,\"\\n\")\n",
    "print(\"vector2D \\n\", vector2D)\n",
    "```\n",
    "    \n",
    "```python\n",
    "print(\"Multiply 2D and 1D arrays: result is a 1D array\\n\", \n",
    "      np.dot(matrix1,vector1D))\n",
    "print(\"Multiply 2D and 2D arrays: result is a 2D array\\n\", \n",
    "      np.dot(matrix1,vector2D))\n",
    "```    \n",
    "    \n",
    "```python\n",
    "print(\"Adding (3 x 1) vector to a (3 x 1) vector is a (3 x 1) vector\\n\",\n",
    "      \"This is what we want here!\\n\", \n",
    "      np.dot(matrix1,vector2D) + matrix2)\n",
    "```    \n",
    "    \n",
    "```python\n",
    "print(\"Adding a (3,) vector to a (3 x 1) vector\\n\",\n",
    "      \"broadcasts the 1D array across the second dimension\\n\",\n",
    "      \"Not what we want here!\\n\",\n",
    "      np.dot(matrix1,vector1D) + matrix2\n",
    "     )\n",
    "```    \n",
    "</p>\n",
    "</details>"
   ]
  },
  {
   "cell_type": "markdown",
   "metadata": {
    "colab_type": "text",
    "id": "8_GeJwei01Ss"
   },
   "source": [
    "- **Step 3**: Sampling: \n",
    "    - Now that you have $y^{\\langle t+1 \\rangle}$, you want to select the next letter in the dinosaur name. If you select the most probable, the model will always generate the same result given a starting letter. To make the results more interesting, use `np.random.choice` to select a next letter that is *likely*, but not always the same.\n",
    "    - Pick the next character's **index** according to the probability distribution specified by $\\hat{y}^{\\langle t+1 \\rangle }$. \n",
    "    - This means that if $\\hat{y}^{\\langle t+1 \\rangle }_i = 0.16$, you will pick the index \"i\" with 16% probability. \n",
    "    - Use [np.random.choice](https://docs.scipy.org/doc/numpy-1.13.0/reference/generated/numpy.random.choice.html).\n",
    "\n",
    "    Example of how to use `np.random.choice()`:\n",
    "    ```python\n",
    "    np.random.seed(0)\n",
    "    probs = np.array([0.1, 0.0, 0.7, 0.2])\n",
    "    idx = np.random.choice(range(len(probs)), p = probs)\n",
    "    ```\n",
    "    \n",
    "    - This means that you will pick the index (`idx`) according to the distribution: \n",
    "\n",
    "    $P(index = 0) = 0.1, P(index = 1) = 0.0, P(index = 2) = 0.7, P(index = 3) = 0.2$.\n",
    "\n",
    "    - Note that the value that's set to `p` should be set to a 1D vector.\n",
    "    - Also notice that $\\hat{y}^{\\langle t+1 \\rangle}$, which is `y` in the code, is a 2D array.\n",
    "    - Also notice, while in your implementation, the first argument to `np.random.choice` is just an ordered list [0,1,.., vocab_len-1], it is *not* appropriate to use `char_to_ix.values()`. The *order* of values returned by a Python dictionary `.values()` call will be the same order as they are added to the dictionary. The grader may have a different order when it runs your routine than when you run it in your notebook."
   ]
  },
  {
   "cell_type": "markdown",
   "metadata": {
    "colab_type": "text",
    "id": "ReKfIdP501Ss"
   },
   "source": [
    "##### Additional Hints\n",
    "- Documentation for the built-in Python function [range](https://docs.python.org/3/library/functions.html#func-range)\n",
    "- Docs for [numpy.ravel](https://docs.scipy.org/doc/numpy/reference/generated/numpy.ravel.html), which takes a multi-dimensional array and returns its contents inside of a 1D vector.\n",
    "```Python\n",
    "arr = np.array([[1,2],[3,4]])\n",
    "print(\"arr\")\n",
    "print(arr)\n",
    "print(\"arr.ravel()\")\n",
    "print(arr.ravel())\n",
    "```\n",
    "Output:\n",
    "```Python\n",
    "arr\n",
    "[[1 2]\n",
    " [3 4]]\n",
    "arr.ravel()\n",
    "[1 2 3 4]\n",
    "```\n",
    "\n",
    "- Note that `append` is an \"in-place\" operation, which means the changes made by the method will remain after the call completes.  In other words, don't do this:\n",
    "\n",
    "```Python\n",
    "fun_hobbies = fun_hobbies.append('learning')  ## Doesn't give you what you want!\n",
    "```"
   ]
  },
  {
   "cell_type": "markdown",
   "metadata": {
    "colab_type": "text",
    "id": "KHJ4tfWY01Su"
   },
   "source": [
    "- **Step 4**: Update to $x^{\\langle t \\rangle }$ \n",
    "    - The last step to implement in `sample()` is to update the variable `x`, which currently stores $x^{\\langle t \\rangle }$, with the value of $x^{\\langle t + 1 \\rangle }$. \n",
    "    - You will represent $x^{\\langle t + 1 \\rangle }$ by creating a one-hot vector corresponding to the character that you have chosen as your prediction. \n",
    "    - You will then forward propagate $x^{\\langle t + 1 \\rangle }$ in Step 1 and keep repeating the process until you get a `\"\\n\"` character, indicating that you have reached the end of the dinosaur name. "
   ]
  },
  {
   "cell_type": "markdown",
   "metadata": {
    "colab_type": "text",
    "id": "qqdlzd0l01Su"
   },
   "source": [
    "##### Additional Hints\n",
    "- In order to reset `x` before setting it to the new one-hot vector, you'll want to set all the values to zero.\n",
    "    - You can either create a new numpy array: [numpy.zeros](https://docs.scipy.org/doc/numpy/reference/generated/numpy.zeros.html)\n",
    "    - Or fill all values with a single number: [numpy.ndarray.fill](https://docs.scipy.org/doc/numpy/reference/generated/numpy.ndarray.fill.html)"
   ]
  },
  {
   "cell_type": "code",
   "execution_count": 7,
   "metadata": {
    "colab": {},
    "colab_type": "code",
    "id": "UIkYdtBx01Su"
   },
   "outputs": [],
   "source": [
    "# UNQ_C2 (UNIQUE CELL IDENTIFIER, DO NOT EDIT)\n",
    "# GRADED FUNCTION: sample\n",
    "\n",
    "def sample(parameters, char_to_ix, seed):\n",
    "    \"\"\"\n",
    "    Sample a sequence of characters according to a sequence of probability distributions output of the RNN\n",
    "\n",
    "    Arguments:\n",
    "    parameters -- Python dictionary containing the parameters Waa, Wax, Wya, by, and b. \n",
    "    char_to_ix -- Python dictionary mapping each character to an index.\n",
    "    seed -- Used for grading purposes. Do not worry about it.\n",
    "\n",
    "    Returns:\n",
    "    indices -- A list of length n containing the indices of the sampled characters.\n",
    "    \"\"\"\n",
    "    \n",
    "    # Retrieve parameters and relevant shapes from \"parameters\" dictionary\n",
    "    Waa, Wax, Wya, by, b = parameters['Waa'], parameters['Wax'], parameters['Wya'], parameters['by'], parameters['b']\n",
    "    vocab_size = by.shape[0]\n",
    "    n_a = Waa.shape[1]\n",
    "    \n",
    "    ### START CODE HERE ###\n",
    "    # Step 1: Create the a zero vector x that can be used as the one-hot vector \n",
    "    # Representing the first character (initializing the sequence generation). (≈1 line)\n",
    "    x = np.zeros((vocab_size,))\n",
    "    # Step 1': Initialize a_prev as zeros (≈1 line)\n",
    "    a_prev = np.zeros((n_a,))\n",
    "#     print('a_prev', a_prev.shape)\n",
    "    \n",
    "    # Create an empty list of indices. This is the list which will contain the list of indices of the characters to generate (≈1 line)\n",
    "    indices = []\n",
    "    \n",
    "    # idx is the index of the one-hot vector x that is set to 1\n",
    "    # All other positions in x are zero.\n",
    "    # Initialize idx to -1\n",
    "    idx = -1 \n",
    "    \n",
    "    # Loop over time-steps t. At each time-step:\n",
    "    # Sample a character from a probability distribution \n",
    "    # And append its index (`idx`) to the list \"indices\". \n",
    "    # You'll stop if you reach 50 characters \n",
    "    # (which should be very unlikely with a well-trained model).\n",
    "    # Setting the maximum number of characters helps with debugging and prevents infinite loops. \n",
    "    counter = 0\n",
    "    newline_character = char_to_ix['\\n']\n",
    "    \n",
    "    while (idx != newline_character and counter != 50):\n",
    "        \n",
    "        # Step 2: Forward propagate x using the equations (1), (2) and (3)\n",
    "#         print('Wax', Wax.shape)\n",
    "#         print('x', x.shape)\n",
    "#         print('Waa', Waa.shape)\n",
    "#         print('a_prev', a_prev.shape)\n",
    "#         print('b', b.shape)\n",
    "        a = np.tanh(np.dot(Wax,x)+np.dot(Waa,a_prev)+np.ravel(b))\n",
    "#         print('a', a.shape)\n",
    "        z = np.dot(Wya,a) + np.ravel(by)\n",
    "#         print('z', z.shape)\n",
    "        y = softmax(z)\n",
    "        \n",
    "        # For grading purposes\n",
    "        np.random.seed(counter + seed) \n",
    "        \n",
    "        # Step 3: Sample the index of a character within the vocabulary from the probability distribution y\n",
    "        # (see additional hints above)\n",
    "#         print(y.shape)\n",
    "        idx = np.random.choice(list(char_to_ix.values()), p=np.ravel(y))\n",
    "\n",
    "        # Append the index to \"indices\"\n",
    "        indices.append(idx)\n",
    "        \n",
    "        # Step 4: Overwrite the input x with one that corresponds to the sampled index `idx`.\n",
    "        # (see additional hints above)\n",
    "        x = np.zeros((vocab_size,))\n",
    "        x[idx] = 1\n",
    "        \n",
    "        # Update \"a_prev\" to be \"a\"\n",
    "        a_prev = a\n",
    "        \n",
    "        # for grading purposes\n",
    "        seed += 1\n",
    "        counter +=1\n",
    "        \n",
    "    ### END CODE HERE ###\n",
    "\n",
    "    if (counter == 50):\n",
    "        indices.append(char_to_ix['\\n'])\n",
    "    \n",
    "    return indices"
   ]
  },
  {
   "cell_type": "code",
   "execution_count": 8,
   "metadata": {
    "colab": {},
    "colab_type": "code",
    "id": "Db8r6cXp01Sy"
   },
   "outputs": [
    {
     "name": "stdout",
     "output_type": "stream",
     "text": [
      "Sampling:\n",
      "list of sampled indices:\n",
      " [23, 16, 26, 26, 24, 3, 21, 1, 7, 24, 15, 3, 25, 20, 6, 13, 10, 8, 20, 12, 2, 0]\n",
      "list of sampled characters:\n",
      " ['w', 'o', 'z', 'z', 'x', 'b', 'u', ' ', 'f', 'x', 'n', 'b', 'y', 't', 'e', 'l', 'i', 'g', 't', 'k', 'a', '\\n']\n",
      "\u001b[92mAll tests passed!\n"
     ]
    }
   ],
   "source": [
    "def sample_test(target):\n",
    "    np.random.seed(24)\n",
    "    _, n_a = 20, 100\n",
    "    Wax, Waa, Wya = np.random.randn(n_a, vocab_size), np.random.randn(n_a, n_a), np.random.randn(vocab_size, n_a)\n",
    "    b, by = np.random.randn(n_a, 1), np.random.randn(vocab_size, 1)\n",
    "    parameters = {\"Wax\": Wax, \"Waa\": Waa, \"Wya\": Wya, \"b\": b, \"by\": by}\n",
    "\n",
    "\n",
    "    indices = target(parameters, char_to_ix, 0)\n",
    "    print(\"Sampling:\")\n",
    "    print(\"list of sampled indices:\\n\", indices)\n",
    "    print(\"list of sampled characters:\\n\", [ix_to_char[i] for i in indices])\n",
    "    \n",
    "    assert len(indices) < 52, \"Indices length must be smaller than 52\"\n",
    "    assert indices[-1] == char_to_ix['\\n'], \"All samples must end with \\\\n\"\n",
    "    assert min(indices) >= 0 and max(indices) < len(char_to_ix), f\"Sampled indexes must be between 0 and len(char_to_ix)={len(char_to_ix)}\"\n",
    "    assert np.allclose(indices[0:6], [23, 16, 26, 26, 24, 3]), \"Wrong values\"\n",
    "    \n",
    "    print(\"\\033[92mAll tests passed!\")\n",
    "\n",
    "sample_test(sample)"
   ]
  },
  {
   "cell_type": "markdown",
   "metadata": {},
   "source": [
    "**Expected output**\n",
    "```\n",
    "Sampling:\n",
    "list of sampled indices:\n",
    " [23, 16, 26, 26, 24, 3, 21, 1, 7, 24, 15, 3, 25, 20, 6, 13, 10, 8, 20, 12, 2, 0]\n",
    "list of sampled characters:\n",
    " ['w', 'p', 'z', 'z', 'x', 'c', 'u', 'a', 'g', 'x', 'o', 'c', 'y', 't', 'f', 'm', 'j', 'h', 't', 'l', 'b', '\\n']\n",
    "```"
   ]
  },
  {
   "cell_type": "markdown",
   "metadata": {},
   "source": [
    "<font color='blue'><b>What you should remember</b>: \n",
    "* Very large, or \"exploding\" gradients updates can be so large that they \"overshoot\" the optimal values during back prop -- making training difficult \n",
    "    * Clip gradients before updating the parameters to avoid exploding gradients \n",
    "* Sampling is a technique you can use to pick the index of the next character according to a probability distribution.\n",
    "    * To begin character-level sampling: \n",
    "        * Input a \"dummy\" vector of zeros as a default input \n",
    "        * Run one step of forward propagation to get 𝑎⟨1⟩ (your first character) and 𝑦̂ ⟨1⟩ (probability distribution for the following character) \n",
    "        * When sampling, avoid generating the same result each time given the starting letter (and make your names more interesting!) by using `np.random.choice`"
   ]
  },
  {
   "cell_type": "markdown",
   "metadata": {
    "colab_type": "text",
    "id": "qdeVJ9xT01S2"
   },
   "source": [
    "<a name='3'></a>\n",
    "## 3 - Building the Language Model \n",
    "\n",
    "It's time to build the character-level language model for text generation! \n",
    "\n",
    "\n",
    "<a name='3-1'></a>\n",
    "### 3.1 - Gradient Descent \n",
    "\n",
    "In this section you will implement a function performing one step of stochastic gradient descent (with clipped gradients). You'll go through the training examples one at a time, so the optimization algorithm will be stochastic gradient descent. \n",
    "\n",
    "As a reminder, here are the steps of a common optimization loop for an RNN:\n",
    "\n",
    "- Forward propagate through the RNN to compute the loss\n",
    "- Backward propagate through time to compute the gradients of the loss with respect to the parameters\n",
    "- Clip the gradients\n",
    "- Update the parameters using gradient descent \n",
    "\n",
    "<a name='ex-3'></a>\n",
    "### Exercise 3 - optimize\n",
    "\n",
    "Implement the optimization process (one step of stochastic gradient descent).\n",
    "\n",
    "The following functions are provided:\n",
    "\n",
    "```python\n",
    "def rnn_forward(X, Y, a_prev, parameters):\n",
    "    \"\"\" Performs the forward propagation through the RNN and computes the cross-entropy loss.\n",
    "    It returns the loss' value as well as a \"cache\" storing values to be used in backpropagation.\"\"\"\n",
    "    ....\n",
    "    return loss, cache\n",
    "    \n",
    "def rnn_backward(X, Y, parameters, cache):\n",
    "    \"\"\" Performs the backward propagation through time to compute the gradients of the loss with respect\n",
    "    to the parameters. It returns also all the hidden states.\"\"\"\n",
    "    ...\n",
    "    return gradients, a\n",
    "\n",
    "def update_parameters(parameters, gradients, learning_rate):\n",
    "    \"\"\" Updates parameters using the Gradient Descent Update Rule.\"\"\"\n",
    "    ...\n",
    "    return parameters\n",
    "```\n",
    "\n",
    "Recall that you previously implemented the `clip` function:"
   ]
  },
  {
   "cell_type": "markdown",
   "metadata": {
    "colab_type": "text",
    "id": "YsaPkvUq01S3"
   },
   "source": [
    "#### Parameters\n",
    "\n",
    "* Note that the weights and biases inside the `parameters` dictionary are being updated by the optimization, even though `parameters` is not one of the returned values of the `optimize` function. The `parameters` dictionary is passed by reference into the function, so changes to this dictionary are making changes to the `parameters` dictionary even when accessed outside of the function.\n",
    "* Python dictionaries and lists are \"pass by reference\", which means that if you pass a dictionary into a function and modify the dictionary within the function, this changes that same dictionary (it's not a copy of the dictionary)."
   ]
  },
  {
   "cell_type": "code",
   "execution_count": 9,
   "metadata": {
    "colab": {},
    "colab_type": "code",
    "id": "_BbEdIgY01S3"
   },
   "outputs": [],
   "source": [
    "# UNQ_C3 (UNIQUE CELL IDENTIFIER, DO NOT EDIT)\n",
    "# GRADED FUNCTION: optimize\n",
    "\n",
    "def optimize(X, Y, a_prev, parameters, learning_rate = 0.01):\n",
    "    \"\"\"\n",
    "    Execute one step of the optimization to train the model.\n",
    "    \n",
    "    Arguments:\n",
    "    X -- list of integers, where each integer is a number that maps to a character in the vocabulary.\n",
    "    Y -- list of integers, exactly the same as X but shifted one index to the left.\n",
    "    a_prev -- previous hidden state.\n",
    "    parameters -- python dictionary containing:\n",
    "                        Wax -- Weight matrix multiplying the input, numpy array of shape (n_a, n_x)\n",
    "                        Waa -- Weight matrix multiplying the hidden state, numpy array of shape (n_a, n_a)\n",
    "                        Wya -- Weight matrix relating the hidden-state to the output, numpy array of shape (n_y, n_a)\n",
    "                        b --  Bias, numpy array of shape (n_a, 1)\n",
    "                        by -- Bias relating the hidden-state to the output, numpy array of shape (n_y, 1)\n",
    "    learning_rate -- learning rate for the model.\n",
    "    \n",
    "    Returns:\n",
    "    loss -- value of the loss function (cross-entropy)\n",
    "    gradients -- python dictionary containing:\n",
    "                        dWax -- Gradients of input-to-hidden weights, of shape (n_a, n_x)\n",
    "                        dWaa -- Gradients of hidden-to-hidden weights, of shape (n_a, n_a)\n",
    "                        dWya -- Gradients of hidden-to-output weights, of shape (n_y, n_a)\n",
    "                        db -- Gradients of bias vector, of shape (n_a, 1)\n",
    "                        dby -- Gradients of output bias vector, of shape (n_y, 1)\n",
    "    a[len(X)-1] -- the last hidden state, of shape (n_a, 1)\n",
    "    \"\"\"\n",
    "    \n",
    "    ### START CODE HERE ###\n",
    "    \n",
    "    # Forward propagate through time (≈1 line)\n",
    "    loss, cache = rnn_forward(X, Y, a_prev, parameters)\n",
    "    \n",
    "    # Backpropagate through time (≈1 line)\n",
    "    gradients, a = rnn_backward(X, Y, parameters, cache)\n",
    "    \n",
    "    # Clip your gradients between -5 (min) and 5 (max) (≈1 line)\n",
    "    gradients = clip(gradients, 5)\n",
    "    \n",
    "    # Update parameters (≈1 line)\n",
    "    parameters = update_parameters(parameters, gradients, learning_rate)\n",
    "    \n",
    "    ### END CODE HERE ###\n",
    "    \n",
    "    #return loss, gradients, a[len(X)-1]\n",
    "    return loss, parameters, a[len(X)-1]"
   ]
  },
  {
   "cell_type": "code",
   "execution_count": 10,
   "metadata": {
    "colab": {},
    "colab_type": "code",
    "id": "ww-EKK5801S5"
   },
   "outputs": [
    {
     "name": "stdout",
     "output_type": "stream",
     "text": [
      "Loss = 126.50397572165383\n"
     ]
    },
    {
     "ename": "KeyError",
     "evalue": "'dWaa'",
     "output_type": "error",
     "traceback": [
      "\u001b[1;31m---------------------------------------------------------------------------\u001b[0m",
      "\u001b[1;31mKeyError\u001b[0m                                  Traceback (most recent call last)",
      "\u001b[1;32mc:\\Users\\Riccardo\\Documents\\GitHub\\deep-learning-specialization\\05 - Sequence Models\\W1A2\\Dinosaurus_Island_Character_level_language_model.ipynb Cell 32\u001b[0m line \u001b[0;36m3\n\u001b[0;32m     <a href='vscode-notebook-cell:/c%3A/Users/Riccardo/Documents/GitHub/deep-learning-specialization/05%20-%20Sequence%20Models/W1A2/Dinosaurus_Island_Character_level_language_model.ipynb#X43sZmlsZQ%3D%3D?line=25'>26</a>\u001b[0m     \u001b[39massert\u001b[39;00m \u001b[39mnot\u001b[39;00m np\u001b[39m.\u001b[39mallclose(parameters[\u001b[39m'\u001b[39m\u001b[39mWya\u001b[39m\u001b[39m'\u001b[39m], old_parameters[\u001b[39m'\u001b[39m\u001b[39mWya\u001b[39m\u001b[39m'\u001b[39m]), \u001b[39m\"\u001b[39m\u001b[39mparameters were not updated\u001b[39m\u001b[39m\"\u001b[39m\n\u001b[0;32m     <a href='vscode-notebook-cell:/c%3A/Users/Riccardo/Documents/GitHub/deep-learning-specialization/05%20-%20Sequence%20Models/W1A2/Dinosaurus_Island_Character_level_language_model.ipynb#X43sZmlsZQ%3D%3D?line=27'>28</a>\u001b[0m     \u001b[39mprint\u001b[39m(\u001b[39m\"\u001b[39m\u001b[39m\\033\u001b[39;00m\u001b[39m[92mAll tests passed!\u001b[39m\u001b[39m\"\u001b[39m)\n\u001b[1;32m---> <a href='vscode-notebook-cell:/c%3A/Users/Riccardo/Documents/GitHub/deep-learning-specialization/05%20-%20Sequence%20Models/W1A2/Dinosaurus_Island_Character_level_language_model.ipynb#X43sZmlsZQ%3D%3D?line=29'>30</a>\u001b[0m optimize_test(optimize)\n",
      "\u001b[1;32mc:\\Users\\Riccardo\\Documents\\GitHub\\deep-learning-specialization\\05 - Sequence Models\\W1A2\\Dinosaurus_Island_Character_level_language_model.ipynb Cell 32\u001b[0m line \u001b[0;36m1\n\u001b[0;32m     <a href='vscode-notebook-cell:/c%3A/Users/Riccardo/Documents/GitHub/deep-learning-specialization/05%20-%20Sequence%20Models/W1A2/Dinosaurus_Island_Character_level_language_model.ipynb#X43sZmlsZQ%3D%3D?line=10'>11</a>\u001b[0m loss, gradients, a_last \u001b[39m=\u001b[39m target(X, Y, a_prev, parameters, learning_rate \u001b[39m=\u001b[39m \u001b[39m0.01\u001b[39m)\n\u001b[0;32m     <a href='vscode-notebook-cell:/c%3A/Users/Riccardo/Documents/GitHub/deep-learning-specialization/05%20-%20Sequence%20Models/W1A2/Dinosaurus_Island_Character_level_language_model.ipynb#X43sZmlsZQ%3D%3D?line=11'>12</a>\u001b[0m \u001b[39mprint\u001b[39m(\u001b[39m\"\u001b[39m\u001b[39mLoss =\u001b[39m\u001b[39m\"\u001b[39m, loss)\n\u001b[1;32m---> <a href='vscode-notebook-cell:/c%3A/Users/Riccardo/Documents/GitHub/deep-learning-specialization/05%20-%20Sequence%20Models/W1A2/Dinosaurus_Island_Character_level_language_model.ipynb#X43sZmlsZQ%3D%3D?line=12'>13</a>\u001b[0m \u001b[39mprint\u001b[39m(\u001b[39m\"\u001b[39m\u001b[39mgradients[\u001b[39m\u001b[39m\\\"\u001b[39;00m\u001b[39mdWaa\u001b[39m\u001b[39m\\\"\u001b[39;00m\u001b[39m][1][2] =\u001b[39m\u001b[39m\"\u001b[39m, gradients[\u001b[39m\"\u001b[39;49m\u001b[39mdWaa\u001b[39;49m\u001b[39m\"\u001b[39;49m][\u001b[39m1\u001b[39m][\u001b[39m2\u001b[39m])\n\u001b[0;32m     <a href='vscode-notebook-cell:/c%3A/Users/Riccardo/Documents/GitHub/deep-learning-specialization/05%20-%20Sequence%20Models/W1A2/Dinosaurus_Island_Character_level_language_model.ipynb#X43sZmlsZQ%3D%3D?line=13'>14</a>\u001b[0m \u001b[39mprint\u001b[39m(\u001b[39m\"\u001b[39m\u001b[39mnp.argmax(gradients[\u001b[39m\u001b[39m\\\"\u001b[39;00m\u001b[39mdWax\u001b[39m\u001b[39m\\\"\u001b[39;00m\u001b[39m]) =\u001b[39m\u001b[39m\"\u001b[39m, np\u001b[39m.\u001b[39margmax(gradients[\u001b[39m\"\u001b[39m\u001b[39mdWax\u001b[39m\u001b[39m\"\u001b[39m]))\n\u001b[0;32m     <a href='vscode-notebook-cell:/c%3A/Users/Riccardo/Documents/GitHub/deep-learning-specialization/05%20-%20Sequence%20Models/W1A2/Dinosaurus_Island_Character_level_language_model.ipynb#X43sZmlsZQ%3D%3D?line=14'>15</a>\u001b[0m \u001b[39mprint\u001b[39m(\u001b[39m\"\u001b[39m\u001b[39mgradients[\u001b[39m\u001b[39m\\\"\u001b[39;00m\u001b[39mdWya\u001b[39m\u001b[39m\\\"\u001b[39;00m\u001b[39m][1][2] =\u001b[39m\u001b[39m\"\u001b[39m, gradients[\u001b[39m\"\u001b[39m\u001b[39mdWya\u001b[39m\u001b[39m\"\u001b[39m][\u001b[39m1\u001b[39m][\u001b[39m2\u001b[39m])\n",
      "\u001b[1;31mKeyError\u001b[0m: 'dWaa'"
     ]
    }
   ],
   "source": [
    "def optimize_test(target):\n",
    "    np.random.seed(1)\n",
    "    vocab_size, n_a = 27, 100\n",
    "    a_prev = np.random.randn(n_a, 1)\n",
    "    Wax, Waa, Wya = np.random.randn(n_a, vocab_size), np.random.randn(n_a, n_a), np.random.randn(vocab_size, n_a)\n",
    "    b, by = np.random.randn(n_a, 1), np.random.randn(vocab_size, 1)\n",
    "    parameters = {\"Wax\": Wax, \"Waa\": Waa, \"Wya\": Wya, \"b\": b, \"by\": by}\n",
    "    X = [12, 3, 5, 11, 22, 3]\n",
    "    Y = [4, 14, 11, 22, 25, 26]\n",
    "    old_parameters = copy.deepcopy(parameters)\n",
    "    loss, gradients, a_last = target(X, Y, a_prev, parameters, learning_rate = 0.01)\n",
    "    print(\"Loss =\", loss)\n",
    "    print(\"gradients[\\\"dWaa\\\"][1][2] =\", gradients[\"dWaa\"][1][2])\n",
    "    print(\"np.argmax(gradients[\\\"dWax\\\"]) =\", np.argmax(gradients[\"dWax\"]))\n",
    "    print(\"gradients[\\\"dWya\\\"][1][2] =\", gradients[\"dWya\"][1][2])\n",
    "    print(\"gradients[\\\"db\\\"][4] =\", gradients[\"db\"][4])\n",
    "    print(\"gradients[\\\"dby\\\"][1] =\", gradients[\"dby\"][1])\n",
    "    print(\"a_last[4] =\", a_last[4])\n",
    "    \n",
    "    assert np.isclose(loss, 126.5039757), \"Problems with the call of the rnn_forward function\"\n",
    "    for grad in gradients.values():\n",
    "        assert np.min(grad) >= -5, \"Problems in the clip function call\"\n",
    "        assert np.max(grad) <= 5, \"Problems in the clip function call\"\n",
    "    assert np.allclose(gradients['dWaa'][1, 2], 0.1947093), \"Unexpected gradients. Check the rnn_backward call\"\n",
    "    assert np.allclose(gradients['dWya'][1, 2], -0.007773876), \"Unexpected gradients. Check the rnn_backward call\"\n",
    "    assert not np.allclose(parameters['Wya'], old_parameters['Wya']), \"parameters were not updated\"\n",
    "    \n",
    "    print(\"\\033[92mAll tests passed!\")\n",
    "\n",
    "optimize_test(optimize)"
   ]
  },
  {
   "cell_type": "markdown",
   "metadata": {},
   "source": [
    "**Expected output**\n",
    "\n",
    "```\n",
    "Loss = 126.50397572165389\n",
    "gradients[\"dWaa\"][1][2] = 0.19470931534713587\n",
    "np.argmax(gradients[\"dWax\"]) = 93\n",
    "gradients[\"dWya\"][1][2] = -0.007773876032002162\n",
    "gradients[\"db\"][4] = [-0.06809825]\n",
    "gradients[\"dby\"][1] = [0.01538192]\n",
    "a_last[4] = [-1.]\n",
    "```"
   ]
  },
  {
   "cell_type": "markdown",
   "metadata": {
    "colab_type": "text",
    "id": "m-4cL3oZ01S9"
   },
   "source": [
    "<a name='3-2'></a>\n",
    "### 3.2 - Training the Model "
   ]
  },
  {
   "cell_type": "markdown",
   "metadata": {
    "colab_type": "text",
    "id": "qZ63mN5-01S9"
   },
   "source": [
    "* Given the dataset of dinosaur names, you'll use each line of the dataset (one name) as one training example. \n",
    "* Every 2000 steps of stochastic gradient descent, you will sample several randomly chosen names to see how the algorithm is doing. \n",
    " \n",
    "<a name='ex-4'></a>\n",
    "### Exercise 4 - model\n",
    "\n",
    "Implement `model()`. \n",
    "\n",
    "When `examples[index]` contains one dinosaur name (string), to create an example (X, Y), you can use this:\n",
    "\n",
    "##### Set the index `idx` into the list of examples\n",
    "\n",
    "* Using the for-loop, walk through the shuffled list of dinosaur names in the list \"examples.\"\n",
    "* For example, if there are n_e examples, and the for-loop increments the index to n_e onwards, think of how you would make the index cycle back to 0, so that you can continue feeding the examples into the model when j is n_e, n_e + 1, etc.\n",
    "* Hint: (n_e + 1) % n_e equals 1, which is otherwise the 'remainder' you get when you divide (n_e + 1) by n_e.\n",
    "* `%` is the [modulo operator in python](https://www.freecodecamp.org/news/the-python-modulo-operator-what-does-the-symbol-mean-in-python-solved/).\n",
    "\n",
    "##### Extract a single example from the list of examples\n",
    "* `single_example`: use the `idx` index that you set previously to get one word from the list of examples."
   ]
  },
  {
   "cell_type": "markdown",
   "metadata": {
    "colab_type": "text",
    "id": "RNDsHeoQ01S9"
   },
   "source": [
    "##### Convert a string into a list of characters: `single_example_chars`\n",
    "* `single_example_chars`: A string is a list of characters.\n",
    "* You can use a list comprehension (recommended over for-loops) to generate a list of characters.\n",
    "```Python\n",
    "str = 'I love learning'\n",
    "list_of_chars = [c for c in str]\n",
    "print(list_of_chars)\n",
    "```\n",
    "\n",
    "```\n",
    "['I', ' ', 'l', 'o', 'v', 'e', ' ', 'l', 'e', 'a', 'r', 'n', 'i', 'n', 'g']\n",
    "```\n",
    "\n",
    "* For more on [list comprehensions](https://docs.python.org/3/tutorial/datastructures.html#list-comprehensions):"
   ]
  },
  {
   "cell_type": "markdown",
   "metadata": {
    "colab_type": "text",
    "id": "jzSvzjde01S-"
   },
   "source": [
    "##### Convert list of characters to a list of integers: `single_example_ix`\n",
    "* Create a list that contains the index numbers associated with each character.\n",
    "* Use the dictionary `char_to_ix`\n",
    "* You can combine this with the list comprehension that is used to get a list of characters from a string."
   ]
  },
  {
   "cell_type": "markdown",
   "metadata": {
    "colab_type": "text",
    "id": "lL05MmsV01S-"
   },
   "source": [
    "##### Create the list of input characters: `X`\n",
    "* `rnn_forward` uses the **`None`** value as a flag to set the input vector as a zero-vector.\n",
    "* Prepend the list [**`None`**] in front of the list of input character *indices*.\n",
    "* There is more than one way to prepend a value to a list.  One way is to add two lists together: `['a'] + ['b']`"
   ]
  },
  {
   "cell_type": "markdown",
   "metadata": {
    "colab_type": "text",
    "id": "2D8OXGv901S-"
   },
   "source": [
    "##### Get the integer representation of the newline character `ix_newline`\n",
    "* `ix_newline`: The newline character signals the end of the dinosaur name.\n",
    "    - Get the integer representation of the newline character `'\\n'`.\n",
    "    - Use `char_to_ix`"
   ]
  },
  {
   "cell_type": "markdown",
   "metadata": {
    "colab_type": "text",
    "id": "KGnawmFe01S_"
   },
   "source": [
    "##### Set the list of labels (integer representation of the characters): `Y`\n",
    "* The goal is to train the RNN to predict the next letter in the name, so the labels are the list of characters that are one time-step ahead of the characters in the input `X`.\n",
    "    - For example, `Y[0]` contains the same value as `X[1]`  \n",
    "* The RNN should predict a newline at the last letter, so add `ix_newline` to the end of the labels. \n",
    "    - Append the integer representation of the newline character to the end of `Y`.\n",
    "    - Note that `append` is an in-place operation.\n",
    "    - It might be easier for you to add two lists together."
   ]
  },
  {
   "cell_type": "code",
   "execution_count": 11,
   "metadata": {},
   "outputs": [
    {
     "data": {
      "text/plain": [
       "[None, 1, 2, 3]"
      ]
     },
     "execution_count": 11,
     "metadata": {},
     "output_type": "execute_result"
    }
   ],
   "source": [
    "[None]+[1,2,3]"
   ]
  },
  {
   "cell_type": "code",
   "execution_count": 12,
   "metadata": {},
   "outputs": [
    {
     "data": {
      "text/plain": [
       "'adalbert bolger\\nadaldrida bolger\\nadalgar bolger\\nadalgrim took\\nadamanta chubb\\nadanel\\nadelard took\\nadrahil i\\nadrahil ii\\nar adunakhor\\naegnor\\naerandir\\naerin\\naghan\\nailinel\\nalatar\\ntar alcarin\\ntar aldarion\\naldor\\nalfrida\\nalgund\\nalmarian\\nalmiel\\namandil\\ntar amandil\\namaranth brandybuck\\namarie\\namdir\\namethyst hornblower\\namlach\\namlaith\\namras\\namrod\\namroth\\nanaire\\nanardil\\nanarion\\ntar anarion\\nanborn\\nancalagon\\ntar ancalime\\ntar ancalimon\\nandreth\\nandrog\\nandwise roper\\nangbor\\nangelica baggins\\nangelimar\\nangelimir\\nangrim\\nangrod\\nannael\\nanson roper\\narador\\naraglas\\naragorn i\\naragorn ii elessar\\naragost\\narahad i\\narahad ii\\narahael\\naranarth\\naranuir\\naranwe\\naraphant\\naraphor\\narassuil\\naratan\\narathorn i\\narathorn ii\\naraval\\naravir\\naravorn\\narciryas\\ntar ardamin\\nardamir\\naredhel\\nargeleb i\\nargeleb ii\\nargon\\nargonui\\narien\\narminas\\narod\\narroch\\nartamir\\narthad\\narvedui\\narvegil\\narveleg i\\narveleg ii\\narwen\\nasfaloth\\nasgon\\nasphodel brandybuck\\natanalcar\\ntar atanamir\\natanatar i\\natanatar ii\\naule\\naulendil\\naxantur\\nazaghal\\nazog\\nbain\\nbalbo baggins\\nbaldor\\nbalin\\nbandobras took\\nbarach\\nbaragund\\nbarahir\\nbarahir\\nbarahir\\nbaran\\nbaranor\\nbard ii\\nbard the bowman\\nbarliman butterbur\\nbasso boffin\\nbeechbone\\nbelba baggins\\nbeldir\\nbeldis\\nbelecthor i\\nbelecthor ii\\nbeleg\\nbeleg cuthalion\\nbelegorn\\nbelegund\\nbelemir\\nbelen\\nbell goodchild\\nbelladonna took\\nbeor\\nbeorn\\nbereg\\nberegar\\nberegond\\nberegond\\nberen\\nberen erchamion\\nbereth\\nbergil\\nberil\\nberilac brandybuck\\nbert\\nberuthiel\\nberylla boffin\\nbifur\\nbilbo baggins\\nbilbo gardner\\nbill\\nbill\\nbill ferny\\nbingo baggins\\nblanco\\nblanco bracegirdle\\nbob\\nbodo proudfoot\\nbofur\\nbolg\\nbombur\\nbor\\nborin\\nborlach\\nborlad\\nboromir\\nboromir\\nboromir\\nboron\\nborondir\\nborthand\\nbosco boffin\\nbowman cotton\\nbrand\\nbrandir\\nbregalad\\nbrego\\nbregolas\\nbriffo boffin\\nbrodda\\nbruno bracegirdle\\nbrytta\\nbucca\\nbuffo boffin\\nbungo baggins\\ncalimehtar\\ncaliondo\\ncalmacil\\ntar calmacil\\ncamellia sackville\\ncaranthir\\ncarc\\ncarcharoth\\ncarl cotton\\ncastamir the usurper\\ncelandine brandybuck\\nceleborn\\ncelebrian\\ncelebrimbor\\ncelebrindor\\ncelegorm\\ncelepharn\\ncemendur\\nceorl\\nchica chubb\\ncirdan\\ncirion\\nciryandil\\ntar ciryatan\\nciryatur\\nciryon\\ncora goodbody\\ncotman\\ncottar\\ncurufin\\ndaeron\\ndagnir\\ndain i\\ndain ii\\ndairuin\\ndaisy baggins\\ndaisy gardner\\ndamrod\\ndeagol\\ndenethor\\ndenethor i\\ndenethor ii\\ndeor\\ndeorwine\\nderufin\\ndervorin\\ndiamond\\ndina diggle\\ndinodas brandybuck\\ndior\\ndior\\ndirhael\\ndirhavel\\ndis\\ndoderic brandybuck\\ndodinas brandybuck\\ndonnamira took\\ndora baggins\\ndori\\ndorlas\\ndraugluin\\ndrogo baggins\\ndruda burrows\\ndudo baggins\\nduilin\\nduinhir\\ndunhere\\ndurin i\\ndurin ii\\ndurin iii\\ndurin iv\\ndurin v\\ndurin vi\\ndurin vii\\ndwalin\\nearendil\\nearendil\\nearendur\\nearendur\\nearendur\\nearnil i\\nearnil ii\\nearnur\\nearwen\\necthelion i\\necthelion ii\\necthelion of the fountain\\nedrahil\\negalmoth\\negalmoth\\neglantine banks\\neilinel\\nelanor gardner\\nelatan\\nelboron\\neldacar\\neldacar\\neldalote\\neldarion\\nelemmakil\\nelemmire\\nelendil\\ntar elendil\\nelendur\\nelenwe\\nelfhelm\\nelfhild\\nelfstan fairbairn\\nelfwine\\nelladan\\nelmo\\nelrohir\\nelrond\\nelros\\nelured\\nelurin\\nelwing\\nemeldir\\nenel\\nenerdhil\\neofor\\neol\\neomer\\neomund\\neonwe\\neorl the young\\neothain\\neowyn\\neradan\\nerchirion\\nerellont\\nerendis\\nerestor\\nerkenbrand\\nerling greenhand\\nesmeralda brandybuck\\neste\\nestella bolger\\nestelmo\\neverard took\\nfalco chubb baggins\\nfaramir\\nfaramir took\\nfarin\\nfastolph bolger\\nfastred\\nfastred\\nfastred\\nfatty lumpkin\\nfeanor\\nfelarof\\nfengel\\nferdinand took\\nferumbras took i\\nferumbras took ii\\nferumbras took iii\\nfili\\nfilibert bolger\\nfimbrethil\\nfinarfin\\nfindegil\\nfindis\\nfinduilas\\nfinduilas\\nfinglas\\nfingolfin\\nfingon\\nfinrod\\nfinwe\\nfirefoot\\nfiriel fairbairn\\nfladrif\\nflambard took\\nfloi\\nfolca\\nfolco boffin\\nfolcred\\nfolcwine\\nforlong\\nforthwini\\nfortinbras took i\\nfortinbras took ii\\nforweg\\nfosco baggins\\nfram\\nfrar\\nfrea\\nfrealaf hildeson\\nfreawine\\nfreca\\nfredegar bolger\\nfrerin\\nfrodo baggins\\nfrodo gardner\\nfror\\nfrumgar\\nfuinur\\nfundin\\ngaladhon\\ngalador\\ngaladriel\\ngalathil\\ngaldor\\ngaldor the tall\\ngalion\\ngalmod\\ngamil zirak\\ngamling\\ngandalf\\ngarulf\\ngelmir\\ngelmir\\ngerda boffin\\ngerontius took\\ngethron\\nghan buri ghan\\ngildis\\ngildor\\ngildor inglorion\\ngil galad\\ngilly brownlock\\ngilmith\\ngilraen\\ngimilkhad\\ngimilzagar\\nar gimilzor\\ngimli\\ngirion\\nglaurung\\ngleowine\\nglirhuin\\ngloin\\ngloin\\ngloredhel\\nglorfindel\\nglorfindel\\ngolasgil\\ngoldberry\\ngoldilocks gardner\\ngoldwine\\ngolfimbul\\ngollum\\ngorbadoc brandybuck\\ngorbag\\ngorbulas brandybuck\\ngorhendad brandybuck\\ngorlim\\ngormadoc brandybuck\\ngothmog\\ngothmog\\ngram\\ngriffo boffin\\ngrima wormtongue\\ngrimbeorn\\ngrimbold\\ngrishnakh\\ngrithnir\\ngroin\\ngror\\ngruffo boffin\\nguilin\\ngundabald bolger\\ngundahad bolger\\ngundahar bolger\\ngundolpho bolger\\ngundor\\nguthlaf\\ngwaihir\\ngwindor\\nhador\\nhador lorindol\\nhalbarad\\nhaldad\\nhaldan\\nhaldar\\nhaldir\\nhaldir\\nhaleth\\nhalfast gamgee\\nhalfred gamgee\\nhalfred greenhand\\nhallacar\\nhallas\\nhallatan\\nhalmir\\nhama\\nhamfast of gamwich\\nhamfast gamgee\\nhamfast gardner\\nhamson gamgee\\nhanna goldworthy\\nharding\\nharding of the hill\\nhareth\\nharry goatleaf\\nhasufel\\nhatholdir\\nhelm hammerhand\\nhending\\nherefara\\nheribald bolger\\nherion\\nherubrand\\nherucalmo\\nherugar bolger\\nherumor\\nhilda bracegirdle\\nhildibrand took\\nhildifons took\\nhildigard took\\nhildigrim took\\nhirgon\\nhiril\\nhirluin\\nhob gammidge\\nhob hayward\\nhobson gamgee\\nholfast gardner\\nholman cotton\\nholman greenhand\\nhorn\\nhuan\\nhugo boffin\\nhugo bracegirdle\\nhundar\\nhunthor\\nhuor\\nhurin\\nhurin i\\nhurin ii\\nhyarmendacil i\\nhyarmendacil ii\\nibal\\nibun\\nidril\\nilberic brandybuck\\nilmare\\nimin\\nimrahil\\nindis\\ningwe\\ningwion\\ninzilbeth\\nioreth\\niorlas\\nirilde\\nirime\\nisembard took\\nisembold took\\nisengar took\\nisengrim took i\\nisengrim took ii\\nisengrim took iii\\nisildur\\nisilme\\nisilmo\\nisumbras took i\\nisumbras took ii\\nisumbras took iii\\nisumbras took iv\\nivorwen\\nivy goodenough\\njago boffin\\njessamine boffin\\nkhamul\\nkhim\\nkili\\nlagduf\\nlalia clayhanger\\nlandroval\\nlargo baggins\\nlaura grubb\\nlavender grubb\\nlegolas\\nlenwe\\nleod\\nlily baggins\\nlily brown\\nlinda baggins\\nlindisse\\nlindorie\\nlobelia sackville baggins\\nlongo baggins\\nloni\\nlorgan\\nlorien\\nlothiriel\\nlotho sackville baggins\\nlugdush\\nluthien\\nmablung\\nmablung\\nmadoc brandybuck\\nmaedhros\\nmaeglin\\nfarmer maggot\\nmaglor\\nmahtan\\nmairen\\nmalach\\nmalantur\\nmallor\\nmalva headstrong\\nmalvegil\\nmandos\\nmanwe\\nmanwendil\\nmarach\\nmarcho\\nmardil voronwe\\nmarhari\\nmarhwini\\nmarigold gamgee\\nmarmadas brandybuck\\nmarmadoc brandybuck\\nmarroc brandybuck\\nmat heathertoes\\nmauhur\\nmay gamgee\\nmelian\\nmelilot brandybuck\\nmelkor\\nmenegilda goold\\nmeneldil\\nmeneldor\\ntar meneldur\\nmentha brandybuck\\nmeriadoc brandybuck\\nmerimac brandybuck\\nmerimas brandybuck\\nmerry gardner\\nmilo burrows\\nmim\\nmimosa bunce\\nminardil\\nminastan\\ntar minastir\\nminto burrows\\nmirabella took\\nmiriel therinde\\ntar miriel\\nmithrellas\\nmoro burrows\\nmorwen\\nmorwen steelsheen\\nmosco burrows\\nmungo baggins\\nmuzgash\\nmyrtle burrows\\nnahar\\nnain i\\nnain ii\\nnali\\nnar\\nnarmacil i\\nnarmacil ii\\nnarvi\\nnellas\\nnerdanel\\nnessa\\nnessanie\\nnienna\\nnienor\\nnimloth\\nnina lightfoot\\nnob\\nnolondil\\nnora bolger\\nnori\\nnumendil\\nnuneth\\nodo proudfoot\\nodovacar bolger\\noin\\noin\\nolo proudfoot\\nolwe\\nondoher\\norchaldor\\norgulas brandybuck\\nori\\norodreth\\norodreth\\norome\\noromendil\\noropher\\norophin\\nosse\\nostoher\\notho sackville baggins\\notto boffin\\npaladin took i\\npaladin took ii\\ntar palantir\\npallando\\npansy baggins\\npearl took\\npelendur\\npengolodh\\npeony baggins\\nperegrin took\\npervinca took\\nar pharazon\\npimpernel took\\npippin gardner\\npolo baggins\\nponto baggins i\\nponto baggins ii\\npoppy chubb baggins\\nporto baggins\\nposco baggins\\nprimrose boffin\\nprimrose gardner\\nprimula brandybuck\\nprisca baggins\\nradagast\\nradbug\\nreginard took\\nrian\\nroac\\nrobin gardner\\nrobin smallburrow\\nrollo boffin\\nromendacil i\\nromendacil ii\\nrorimac brandybuck\\nrosa baggins\\nrosamunda took\\nrose\\nrose gardner\\nrosie cotton\\nrowan\\nrowlie appledore\\nruby bolger\\nruby gardner\\nrudibert bolger\\nrudigar bolger\\nrudolph bolger\\nrufus burrows\\nrumil\\nrumil\\nsadoc brandybuck\\nsador\\nsaeros\\nar sakalthor\\nsalmar\\nsalvia brandybuck\\nsamwise gamgee\\nsancho proudfoot\\nsapphira brockhouse\\nsaradas brandybuck\\nsaradoc brandybuck\\nsaruman\\nsauron\\nseredic brandybuck\\nshadowfax\\nshagrat\\nshelob\\nsigismond took\\nsilmarien\\nsiriondil\\nsmaug\\nsnaga\\nsnaga\\nsoronto\\nstrider\\nstybba\\ntar surion\\ntanta hornblower\\ntarannon\\ntarcil\\ntargon\\ntarondor\\ntarondor\\ntata\\nted sandyman\\ntelchar\\ntar telemmaite\\ntelemnar\\ntar telperien\\ntelumehtar\\nthengel\\ntheobald bolger\\ntheoden\\ntheodred\\nthingol\\nthorin i\\nthorin ii oakenshield\\nthorin iii stonehelm\\nthorondir\\nthorondor\\nthrain i\\nthrain ii\\nthranduil\\nthror\\nthuringwethil\\ntilion\\ntindomiel\\ntobold hornblower\\ntogo goodbody\\ntolman cotton\\ntolman gardner\\ntom\\ntom bombadil\\ntosto boffin\\ntreebeard\\ntulkas\\ntuor\\nturgon\\nturgon\\nturin i\\nturin ii\\nturin turambar\\nuffo boffin\\nufthak\\nugluk\\nuinen\\nulbar\\nuldor\\nulfang the black\\nulfast\\nulmo\\nulrad\\nulwarth\\nungoliant\\nvaire\\nvalacar\\nvalandil\\nvalandil\\nvana\\ntar vanimelde\\nvarda\\nvardamir\\nvardilme\\nveantur\\nvidugavia\\nvidumavi\\nvigo boffin\\nvorondil the hunter\\nvoronwe\\nwalda\\nwilcome cotton\\nwilibald bolger\\nwilimar bolger\\nwill whitfoot\\nwillie banks\\nwiseman gamwich\\nwulf\\nyavanna\\nyavien\\nzamin\\nzimrahin\\nar zimrathon'"
      ]
     },
     "execution_count": 12,
     "metadata": {},
     "output_type": "execute_result"
    }
   ],
   "source": [
    "data"
   ]
  },
  {
   "cell_type": "code",
   "execution_count": 13,
   "metadata": {
    "colab": {},
    "colab_type": "code",
    "id": "l214uNun01S_"
   },
   "outputs": [],
   "source": [
    "# UNQ_C4 (UNIQUE CELL IDENTIFIER, DO NOT EDIT)\n",
    "# GRADED FUNCTION: model\n",
    "\n",
    "def model(data_x, ix_to_char, char_to_ix, num_iterations = 35000, n_a = 50, dino_names = 7, vocab_size = 27, verbose = False):\n",
    "    \"\"\"\n",
    "    Trains the model and generates dinosaur names. \n",
    "    \n",
    "    Arguments:\n",
    "    data_x -- text corpus, divided in words\n",
    "    ix_to_char -- dictionary that maps the index to a character\n",
    "    char_to_ix -- dictionary that maps a character to an index\n",
    "    num_iterations -- number of iterations to train the model for\n",
    "    n_a -- number of units of the RNN cell\n",
    "    dino_names -- number of dinosaur names you want to sample at each iteration. \n",
    "    vocab_size -- number of unique characters found in the text (size of the vocabulary)\n",
    "    \n",
    "    Returns:\n",
    "    parameters -- learned parameters\n",
    "    \"\"\"\n",
    "    \n",
    "    # Retrieve n_x and n_y from vocab_size\n",
    "    n_x, n_y = vocab_size, vocab_size\n",
    "    \n",
    "    # Initialize parameters\n",
    "    parameters = initialize_parameters(n_a, n_x, n_y)\n",
    "    \n",
    "    # Initialize loss (this is required because we want to smooth our loss)\n",
    "    loss = get_initial_loss(vocab_size, dino_names)\n",
    "\n",
    "    loss_tot = []\n",
    "    loss_tot.append(loss)\n",
    "    \n",
    "    # Build list of all dinosaur names (training examples).\n",
    "    examples = [x.strip() for x in data_x]\n",
    "    \n",
    "    # Shuffle list of all dinosaur names\n",
    "    np.random.seed(0)\n",
    "    np.random.shuffle(examples)\n",
    "    \n",
    "    # Initialize the hidden state of your LSTM\n",
    "    a_prev = np.zeros((n_a, 1))\n",
    "    \n",
    "    # for grading purposes\n",
    "    last_dino_name = \"abc\"\n",
    "    \n",
    "    # Optimization loop\n",
    "    for j in range(num_iterations):\n",
    "        \n",
    "        ### START CODE HERE ###\n",
    "        \n",
    "        # Set the index `idx` (see instructions above)\n",
    "        idx = j % len(examples)\n",
    "        \n",
    "        # Set the input X (see instructions above)\n",
    "        single_example = examples[idx]\n",
    "        single_example_chars = [c for c in single_example]\n",
    "        single_example_ix = [char_to_ix[c] for c in single_example_chars]\n",
    "        X = [None]+single_example_ix\n",
    "        \n",
    "        # Set the labels Y (see instructions above)\n",
    "        ix_newline = char_to_ix['\\n']\n",
    "        Y = X[1:] + [ix_newline]\n",
    "\n",
    "        # Perform one optimization step: Forward-prop -> Backward-prop -> Clip -> Update parameters\n",
    "        # Choose a learning rate of 0.01\n",
    "        #curr_loss, gradients, a_prev = optimize(X, Y, a_prev, parameters, learning_rate = 0.01)\n",
    "        curr_loss, parameters, a_prev = optimize(X, Y, a_prev, parameters, learning_rate = 0.01)\n",
    "        \n",
    "        ### END CODE HERE ###\n",
    "        \n",
    "        # debug statements to aid in correctly forming X, Y\n",
    "        if verbose and j in [0, len(examples) -1, len(examples)]:\n",
    "            print(\"j = \" , j, \"idx = \", idx,) \n",
    "        if verbose and j in [0]:\n",
    "            print(\"single_example =\", single_example)\n",
    "            print(\"single_example_chars\", single_example_chars)\n",
    "            print(\"single_example_ix\", single_example_ix)\n",
    "            print(\" X = \", X, \"\\n\", \"Y =       \", Y, \"\\n\")\n",
    "        \n",
    "        # to keep the loss smooth.\n",
    "        loss = smooth(loss, curr_loss)\n",
    "        loss_tot.append(loss)\n",
    "\n",
    "        # Every 2000 Iteration, generate \"n\" characters thanks to sample() to check if the model is learning properly\n",
    "        if j % 2000 == 0:\n",
    "            \n",
    "            print('Iteration: %d, Loss: %f' % (j, loss) + '\\n')\n",
    "            \n",
    "            # The number of dinosaur names to print\n",
    "            seed = 0\n",
    "            for name in range(dino_names):\n",
    "                \n",
    "                # Sample indices and print them\n",
    "                sampled_indices = sample(parameters, char_to_ix, seed)\n",
    "                last_dino_name = get_sample(sampled_indices, ix_to_char)\n",
    "                print(last_dino_name.replace('\\n', ''))\n",
    "                \n",
    "                seed += 1  # To get the same result (for grading purposes), increment the seed by one. \n",
    "      \n",
    "            print('\\n')\n",
    "        \n",
    "    return parameters, last_dino_name, loss_tot"
   ]
  },
  {
   "cell_type": "markdown",
   "metadata": {
    "colab_type": "text",
    "id": "-HvBlAnS01TB"
   },
   "source": [
    "When you run the following cell, you should observe your model outputting random-looking characters at the first iteration. After a few thousand iterations, your model should learn to generate reasonable-looking names. "
   ]
  },
  {
   "cell_type": "code",
   "execution_count": 14,
   "metadata": {
    "colab": {},
    "colab_type": "code",
    "id": "3EH8Edc001TC",
    "scrolled": true
   },
   "outputs": [
    {
     "name": "stdout",
     "output_type": "stream",
     "text": [
      "j =  0 idx =  0\n",
      "single_example = freawine\n",
      "single_example_chars ['f', 'r', 'e', 'a', 'w', 'i', 'n', 'e']\n",
      "single_example_ix [7, 18, 6, 2, 23, 10, 15, 6]\n",
      " X =  [None, 7, 18, 6, 2, 23, 10, 15, 6] \n",
      " Y =        [7, 18, 6, 2, 23, 10, 15, 6, 0] \n",
      "\n",
      "Iteration: 0, Loss: 23.077448\n",
      "\n",
      "Mjzxwtclepndygspw siiivu\n",
      "Jmda\n",
      "Jzxwtclepndygspw siiivu\n",
      "Mda\n",
      "Zxwtclepndygspw siiivu\n",
      "Da\n",
      "Xwtclepndygspw siiivu\n",
      "\n",
      "\n",
      "j =  839 idx =  839\n",
      "j =  840 idx =  0\n",
      "Iteration: 2000, Loss: 27.581293\n",
      "\n",
      "Ilusrodgareduhnir\n",
      "Fig\n",
      "Guror\n",
      "Ie\n",
      "Vror\n",
      "Ba\n",
      "Tpoel\n",
      "\n",
      "\n",
      "Iteration: 4000, Loss: 25.425702\n",
      "\n",
      "Hetsroblandatarin\n",
      "Fil\n",
      "Guroo i\n",
      "Hac\n",
      "Vtroch\n",
      "Ba brok\n",
      "Trocf imas nir mildor\n",
      "\n",
      "\n",
      "Iteration: 6000, Loss: 24.045108\n",
      "\n",
      "Gerror\n",
      "Fil\n",
      "Furor\n",
      "Gai\n",
      "Uror\n",
      "Baagor\n",
      "Toran ii\n",
      "\n",
      "\n",
      "Iteration: 8000, Loss: 23.084734\n",
      "\n",
      "Gettor\n",
      "Fola\n",
      "Gurro celgethoos\n",
      "Gae bord\n",
      "Urur\n",
      "Caaene\n",
      "Tor haoncwarms\n",
      "\n",
      "\n",
      "Iteration: 10000, Loss: 22.139341\n",
      "\n",
      "Firron\n",
      "Elda\n",
      "Furnl hamgethong\n",
      "Fafack backlis\n",
      "Turk i\n",
      "Bacgloh\n",
      "Purch\n",
      "\n",
      "\n",
      "Iteration: 12000, Loss: 21.992705\n",
      "\n",
      "Firtoo beggerenir\n",
      "Fnee\n",
      "Furto bamgeriner\n",
      "Faiaerig\n",
      "Turk\n",
      "Bacgor\n",
      "Rundilimat gorben brabereth bodfrab aradar\n",
      "\n",
      "\n",
      "Iteration: 14000, Loss: 21.535964\n",
      "\n",
      "Festor\n",
      "Fin aiondicathol iredavallo brondybocknandor\n",
      "Furto baggisengoar iimi\n",
      "Fag\n",
      "Uryodilas\n",
      "Caa rofb\n",
      "Rot i\n",
      "\n",
      "\n",
      "Iteration: 16000, Loss: 21.106414\n",
      "\n",
      "Flutto balger\n",
      "Fola\n",
      "Furun i\n",
      "Fel\n",
      "Turl gardes\n",
      "Egalfte\n",
      "Puraiin\n",
      "\n",
      "\n",
      "Iteration: 18000, Loss: 21.077889\n",
      "\n",
      "Fisurfan\n",
      "Fina\n",
      "Furth\n",
      "Fac\n",
      "Toro hanger\n",
      "Eabastac brandybuck\n",
      "Prodi\n",
      "\n",
      "\n",
      "Iteration: 20000, Loss: 20.754525\n",
      "\n",
      "Fowton\n",
      "Fol\n",
      "Furst biggeshamobord toakonumbalbarace\n",
      "Fee\n",
      "Turm\n",
      "Fabarod\n",
      "Ost baggins\n",
      "\n",
      "\n",
      "Iteration: 22000, Loss: 20.693759\n",
      "\n",
      "Fiston\n",
      "Folb\n",
      "Furn\n",
      "Fal\n",
      "Turk\n",
      "Daacol\n",
      "Purd brakwir\n",
      "\n",
      "\n"
     ]
    },
    {
     "ename": "AssertionError",
     "evalue": "Wrong expected output",
     "output_type": "error",
     "traceback": [
      "\u001b[1;31m---------------------------------------------------------------------------\u001b[0m",
      "\u001b[1;31mAssertionError\u001b[0m                            Traceback (most recent call last)",
      "\u001b[1;32mc:\\Users\\Riccardo\\Documents\\GitHub\\deep-learning-specialization\\05 - Sequence Models\\W1A2\\Dinosaurus_Island_Character_level_language_model.ipynb Cell 45\u001b[0m line \u001b[0;36m3\n\u001b[0;32m      <a href='vscode-notebook-cell:/c%3A/Users/Riccardo/Documents/GitHub/deep-learning-specialization/05%20-%20Sequence%20Models/W1A2/Dinosaurus_Island_Character_level_language_model.ipynb#X62sZmlsZQ%3D%3D?line=0'>1</a>\u001b[0m parameters, last_name, loss_tot \u001b[39m=\u001b[39m model(data\u001b[39m.\u001b[39msplit(\u001b[39m\"\u001b[39m\u001b[39m\\n\u001b[39;00m\u001b[39m\"\u001b[39m), ix_to_char, char_to_ix, \u001b[39m22001\u001b[39m, verbose \u001b[39m=\u001b[39m \u001b[39mTrue\u001b[39;00m)\n\u001b[1;32m----> <a href='vscode-notebook-cell:/c%3A/Users/Riccardo/Documents/GitHub/deep-learning-specialization/05%20-%20Sequence%20Models/W1A2/Dinosaurus_Island_Character_level_language_model.ipynb#X62sZmlsZQ%3D%3D?line=2'>3</a>\u001b[0m \u001b[39massert\u001b[39;00m last_name \u001b[39m==\u001b[39m \u001b[39m'\u001b[39m\u001b[39mTrodonosaurus\u001b[39m\u001b[39m\\n\u001b[39;00m\u001b[39m'\u001b[39m, \u001b[39m\"\u001b[39m\u001b[39mWrong expected output\u001b[39m\u001b[39m\"\u001b[39m\n\u001b[0;32m      <a href='vscode-notebook-cell:/c%3A/Users/Riccardo/Documents/GitHub/deep-learning-specialization/05%20-%20Sequence%20Models/W1A2/Dinosaurus_Island_Character_level_language_model.ipynb#X62sZmlsZQ%3D%3D?line=3'>4</a>\u001b[0m \u001b[39mprint\u001b[39m(\u001b[39m\"\u001b[39m\u001b[39m\\033\u001b[39;00m\u001b[39m[92mAll tests passed!\u001b[39m\u001b[39m\"\u001b[39m)\n",
      "\u001b[1;31mAssertionError\u001b[0m: Wrong expected output"
     ]
    }
   ],
   "source": [
    "parameters, last_name, loss_tot = model(data.split(\"\\n\"), ix_to_char, char_to_ix, 22001, verbose = True)\n",
    "\n",
    "assert last_name == 'Trodonosaurus\\n', \"Wrong expected output\"\n",
    "print(\"\\033[92mAll tests passed!\")"
   ]
  },
  {
   "cell_type": "code",
   "execution_count": 19,
   "metadata": {},
   "outputs": [
    {
     "name": "stdout",
     "output_type": "stream",
     "text": [
      "Fol\n",
      "\n",
      "Fildior\n",
      "\n",
      "Gaad\n",
      "\n",
      "Faldir\n",
      "\n",
      "Balddbern\n",
      "\n",
      "Bargon\n",
      "\n",
      "Anceldwilb\n",
      "\n",
      "Cimn\n",
      "\n",
      "Danboss bandnianer\n",
      "\n",
      "Glod\n",
      "\n"
     ]
    }
   ],
   "source": [
    "seed=100\n",
    "for i in range(10):\n",
    "    sampled_indices = sample(parameters, char_to_ix, seed)\n",
    "    name = get_sample(sampled_indices, ix_to_char)\n",
    "    seed +=1\n",
    "    print(name)"
   ]
  },
  {
   "cell_type": "code",
   "execution_count": 20,
   "metadata": {},
   "outputs": [],
   "source": [
    "import matplotlib.pyplot as plt\n",
    "import seaborn as sns"
   ]
  },
  {
   "cell_type": "code",
   "execution_count": 25,
   "metadata": {},
   "outputs": [
    {
     "data": {
      "image/png": "[encoded data removed]",
      "text/plain": [
       "<Figure size 640x480 with 1 Axes>"
      ]
     },
     "metadata": {},
     "output_type": "display_data"
    }
   ],
   "source": [
    "fig, ax = plt.subplots()\n",
    "ax.plot(list(range(len(loss_tot))), loss_tot, linewidth=2, color=sns.color_palette(\"hls\",24)[0], alpha=.9)\n",
    "plt.title('Loss function over Iterations')\n",
    "plt.xlabel('Iteration')\n",
    "plt.ylabel('Loss')\n",
    "ax.spines['top'].set_visible(False)\n",
    "ax.spines['bottom'].set_visible(False)\n",
    "ax.spines['right'].set_visible(False)\n",
    "ax.spines['left'].set_visible(False)\n",
    "ax.xaxis.set_ticks_position('none') \n",
    "ax.yaxis.set_ticks_position('none') \n",
    "\n",
    "plt.savefig('loss.png')"
   ]
  },
  {
   "cell_type": "code",
   "execution_count": null,
   "metadata": {},
   "outputs": [],
   "source": []
  },
  {
   "cell_type": "code",
   "execution_count": null,
   "metadata": {},
   "outputs": [],
   "source": []
  },
  {
   "cell_type": "code",
   "execution_count": null,
   "metadata": {},
   "outputs": [],
   "source": []
  },
  {
   "cell_type": "code",
   "execution_count": null,
   "metadata": {},
   "outputs": [],
   "source": []
  },
  {
   "cell_type": "code",
   "execution_count": null,
   "metadata": {},
   "outputs": [],
   "source": []
  },
  {
   "cell_type": "markdown",
   "metadata": {},
   "source": [
    "**Expected output**\n",
    "```\n",
    "...\n",
    "Iteration: 22000, Loss: 22.728886\n",
    "\n",
    "Onustreofkelus\n",
    "Llecagosaurus\n",
    "Mystolojmiaterltasaurus\n",
    "Ola\n",
    "Yuskeolongus\n",
    "Eiacosaurus\n",
    "Trodonosaurus\n",
    "```"
   ]
  },
  {
   "cell_type": "markdown",
   "metadata": {
    "colab_type": "text",
    "id": "4mmYZwFu01TF"
   },
   "source": [
    "### Conclusion\n",
    "\n",
    "You can see that your algorithm has started to generate plausible dinosaur names towards the end of training. At first, it was generating random characters, but towards the end you could begin to see dinosaur names with cool endings. Feel free to run the algorithm even longer and play with hyperparameters to see if you can get even better results! Our implementation generated some really cool names like `maconucon`, `marloralus` and `macingsersaurus`. Your model hopefully also learned that dinosaur names tend to end in `saurus`, `don`, `aura`, `tor`, etc.\n",
    "\n",
    "If your model generates some non-cool names, don't blame the model entirely -- not all actual dinosaur names sound cool. (For example, `dromaeosauroides` is an actual dinosaur name and is in the training set.) But this model should give you a set of candidates from which you can pick the coolest! \n",
    "\n",
    "This assignment used a relatively small dataset, so that you're able to train an RNN quickly on a CPU. Training a model of the English language requires a much bigger dataset, and usually much more computation, and could run for many hours on GPUs. We ran our dinosaur name for quite some time, and so far our favorite name is the great, the fierce, the undefeated: **Mangosaurus**!\n",
    "\n",
    "<img src=\"images/mangosaurus.jpeg\" style=\"width:250;height:300px;\">"
   ]
  },
  {
   "cell_type": "markdown",
   "metadata": {},
   "source": [
    "### Congratulations! \n",
    "\n",
    "You've finished the graded portion of this notebook and created a working language model! Awesome job. \n",
    "\n",
    "By now, you've: \n",
    "\n",
    "* Stored text data for processing using an RNN \n",
    "* Built a character-level text generation model\n",
    "* Explored the vanishing/exploding gradient problem in RNNs\n",
    "* Applied gradient clipping to avoid exploding gradients\n",
    "\n",
    "You've also hopefully generated some dinosaur names that are cool enough to please you and also avoid the wrath of the dinosaurs. If you had fun with the assignment, be sure not to miss the ungraded portion, where you'll be able to generate poetry like the Bard Himself. Good luck and have fun!"
   ]
  },
  {
   "cell_type": "markdown",
   "metadata": {
    "colab_type": "text",
    "id": "2u55TY-W01TG"
   },
   "source": [
    "<a name='4'></a>\n",
    "## 4 - Writing like Shakespeare (OPTIONAL/UNGRADED)\n",
    "\n",
    "The rest of this notebook is optional and is not graded, but it's quite fun and informative, so you're highly encouraged to try it out! \n",
    "\n",
    "A similar task to character-level text generation (but more complicated) is generating Shakespearean poems. Instead of learning from a dataset of dinosaur names, you can use a collection of Shakespearean poems. Using LSTM cells, you can learn longer-term dependencies that span many characters in the text--e.g., where a character appearing somewhere a sequence can influence what should be a different character, much later in the sequence. These long-term dependencies were less important with dinosaur names, since the names were quite short. \n",
    "\n",
    "\n",
    "<img src=\"images/shakespeare.jpg\" style=\"width:500;height:400px;\">\n",
    "<caption><center><font color='purple'><b>Let's become poets!</b></center></caption>\n",
    "\n",
    "Below, you can implement a Shakespeare poem generator with Keras. Run the following cell to load the required packages and models. This may take a few minutes. "
   ]
  },
  {
   "cell_type": "code",
   "execution_count": null,
   "metadata": {
    "colab": {},
    "colab_type": "code",
    "id": "dgPMYCZl01TH"
   },
   "outputs": [],
   "source": [
    "from __future__ import print_function\n",
    "from tensorflow.keras.callbacks import LambdaCallback\n",
    "from tensorflow.keras.models import Model, load_model, Sequential\n",
    "from tensorflow.keras.layers import Dense, Activation, Dropout, Input, Masking\n",
    "from tensorflow.keras.layers import LSTM\n",
    "from tensorflow.keras.utils import get_file\n",
    "from tensorflow.keras.preprocessing.sequence import pad_sequences\n",
    "from shakespeare_utils import *\n",
    "import sys\n",
    "import io"
   ]
  },
  {
   "cell_type": "markdown",
   "metadata": {
    "colab_type": "text",
    "id": "jRaDcXrU01TJ"
   },
   "source": [
    "To save you some time, a model has already been trained for ~1000 epochs on a collection of Shakespearean poems called \"<i>[The Sonnets](shakespeare.txt)</i>.\""
   ]
  },
  {
   "cell_type": "markdown",
   "metadata": {
    "colab_type": "text",
    "id": "XGG0VdGv01TJ"
   },
   "source": [
    "Let's train the model for one more epoch. When it finishes training for an epoch (this will also take a few minutes), you can run `generate_output`, which will prompt you for an input (`<`40 characters). The poem will start with your sentence, and your RNN Shakespeare will complete the rest of the poem for you! For example, try, \"Forsooth this maketh no sense\" (without the quotation marks!). Depending on whether you include the space at the end, your results might also differ, so try it both ways, and try other inputs as well. "
   ]
  },
  {
   "cell_type": "code",
   "execution_count": null,
   "metadata": {
    "colab": {},
    "colab_type": "code",
    "id": "Y4DBjTlz01TK",
    "scrolled": true
   },
   "outputs": [],
   "source": [
    "print_callback = LambdaCallback(on_epoch_end=on_epoch_end)\n",
    "\n",
    "model.fit(x, y, batch_size=128, epochs=1, callbacks=[print_callback])"
   ]
  },
  {
   "cell_type": "code",
   "execution_count": null,
   "metadata": {
    "colab": {},
    "colab_type": "code",
    "id": "wDoriy4Z01TM"
   },
   "outputs": [],
   "source": [
    "# Run this cell to try with different inputs without having to re-train the model \n",
    "generate_output()"
   ]
  },
  {
   "cell_type": "markdown",
   "metadata": {
    "colab_type": "text",
    "id": "b1UA61-t01TO"
   },
   "source": [
    "### Congratulations on finishing this notebook! \n",
    "\n",
    "The RNN Shakespeare model is very similar to the one you built for dinosaur names. The only major differences are:\n",
    "- LSTMs instead of the basic RNN to capture longer-range dependencies\n",
    "- The model is a deeper, stacked LSTM model (2 layer)\n",
    "- Using Keras instead of Python to simplify the code \n"
   ]
  },
  {
   "cell_type": "markdown",
   "metadata": {
    "colab_type": "text",
    "id": "2EgCyjte01TP"
   },
   "source": [
    "<a name='5'></a>\n",
    "## 5 - References \n",
    "- This exercise took inspiration from Andrej Karpathy's implementation: https://gist.github.com/karpathy/d4dee566867f8291f086. To learn more about text generation, also check out Karpathy's [blog post](http://karpathy.github.io/2015/05/21/rnn-effectiveness/)."
   ]
  },
  {
   "cell_type": "code",
   "execution_count": null,
   "metadata": {},
   "outputs": [],
   "source": []
  }
 ],
 "metadata": {
  "colab": {
   "name": "Dinosaurus_Island_Character_level_language_model_final_v3b+Proposed.ipynb",
   "provenance": []
  },
  "coursera": {
   "schema_names": [
    "DLSC5W1-A2"
   ]
  },
  "kernelspec": {
   "display_name": "Python 3",
   "language": "python",
   "name": "python3"
  },
  "language_info": {
   "codemirror_mode": {
    "name": "ipython",
    "version": 3
   },
   "file_extension": ".py",
   "mimetype": "text/x-python",
   "name": "python",
   "nbconvert_exporter": "python",
   "pygments_lexer": "ipython3",
   "version": "3.11.5"
  }
 },
 "nbformat": 4,
 "nbformat_minor": 1
}
